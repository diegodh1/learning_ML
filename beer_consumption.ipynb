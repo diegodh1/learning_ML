{
  "nbformat": 4,
  "nbformat_minor": 0,
  "metadata": {
    "colab": {
      "name": "beer_consumption.ipynb",
      "provenance": [],
      "collapsed_sections": [],
      "authorship_tag": "ABX9TyOuH8Q9FZeOHWzgh0iV8X6b",
      "include_colab_link": true
    },
    "kernelspec": {
      "name": "python3",
      "display_name": "Python 3"
    }
  },
  "cells": [
    {
      "cell_type": "markdown",
      "metadata": {
        "id": "view-in-github",
        "colab_type": "text"
      },
      "source": [
        "<a href=\"https://colab.research.google.com/github/diegodh1/learning_ML/blob/main/beer_consumption.ipynb\" target=\"_parent\"><img src=\"https://colab.research.google.com/assets/colab-badge.svg\" alt=\"Open In Colab\"/></a>"
      ]
    },
    {
      "cell_type": "code",
      "metadata": {
        "id": "nRpQJPNP0AvP"
      },
      "source": [
        "#import the libraries\r\n",
        "import numpy as np # linear algebra\r\n",
        "import pandas as pd # data processing, CSV file I/O (e.g. pd.read_csv)\r\n",
        "import matplotlib.pyplot as plt #charts\r\n",
        "from sklearn.model_selection import train_test_split\r\n",
        "from sklearn.preprocessing import StandardScaler\r\n",
        "from sklearn import preprocessing\r\n",
        "import tensorflow as tf\r\n",
        "from tensorflow import keras\r\n",
        "from tensorflow.keras import layers"
      ],
      "execution_count": 58,
      "outputs": []
    },
    {
      "cell_type": "code",
      "metadata": {
        "colab": {
          "base_uri": "https://localhost:8080/",
          "height": 204
        },
        "id": "4WUeesyX0aDt",
        "outputId": "e2ffdaba-2630-4c4e-9586-83e23783bdb5"
      },
      "source": [
        "#read the csv file\r\n",
        "dataset = pd.read_csv('https://drive.google.com/uc?export=download&id=1H9cJWkCLaW2cVH7qVgFSzwMlgGTwF-Wl', header=None)\r\n",
        "dataset = dataset.iloc[1:]\r\n",
        "#rename the columns\r\n",
        "dataset.columns = [\r\n",
        "    'Date',\r\n",
        "    'Mean Temperature',\r\n",
        "    'Minimum Temperature',\r\n",
        "    'Maximum Temperature',\r\n",
        "    'Precipitation',\r\n",
        "    'Weekend',\r\n",
        "    'Beer Consumption'\r\n",
        "    \r\n",
        "]\r\n",
        "del dataset['Date']\r\n",
        "dataset.head()"
      ],
      "execution_count": 59,
      "outputs": [
        {
          "output_type": "execute_result",
          "data": {
            "text/html": [
              "<div>\n",
              "<style scoped>\n",
              "    .dataframe tbody tr th:only-of-type {\n",
              "        vertical-align: middle;\n",
              "    }\n",
              "\n",
              "    .dataframe tbody tr th {\n",
              "        vertical-align: top;\n",
              "    }\n",
              "\n",
              "    .dataframe thead th {\n",
              "        text-align: right;\n",
              "    }\n",
              "</style>\n",
              "<table border=\"1\" class=\"dataframe\">\n",
              "  <thead>\n",
              "    <tr style=\"text-align: right;\">\n",
              "      <th></th>\n",
              "      <th>Mean Temperature</th>\n",
              "      <th>Minimum Temperature</th>\n",
              "      <th>Maximum Temperature</th>\n",
              "      <th>Precipitation</th>\n",
              "      <th>Weekend</th>\n",
              "      <th>Beer Consumption</th>\n",
              "    </tr>\n",
              "  </thead>\n",
              "  <tbody>\n",
              "    <tr>\n",
              "      <th>1</th>\n",
              "      <td>27,3</td>\n",
              "      <td>23,9</td>\n",
              "      <td>32,5</td>\n",
              "      <td>0</td>\n",
              "      <td>0</td>\n",
              "      <td>25.461</td>\n",
              "    </tr>\n",
              "    <tr>\n",
              "      <th>2</th>\n",
              "      <td>27,02</td>\n",
              "      <td>24,5</td>\n",
              "      <td>33,5</td>\n",
              "      <td>0</td>\n",
              "      <td>0</td>\n",
              "      <td>28.972</td>\n",
              "    </tr>\n",
              "    <tr>\n",
              "      <th>3</th>\n",
              "      <td>24,82</td>\n",
              "      <td>22,4</td>\n",
              "      <td>29,9</td>\n",
              "      <td>0</td>\n",
              "      <td>1</td>\n",
              "      <td>30.814</td>\n",
              "    </tr>\n",
              "    <tr>\n",
              "      <th>4</th>\n",
              "      <td>23,98</td>\n",
              "      <td>21,5</td>\n",
              "      <td>28,6</td>\n",
              "      <td>1,2</td>\n",
              "      <td>1</td>\n",
              "      <td>29.799</td>\n",
              "    </tr>\n",
              "    <tr>\n",
              "      <th>5</th>\n",
              "      <td>23,82</td>\n",
              "      <td>21</td>\n",
              "      <td>28,3</td>\n",
              "      <td>0</td>\n",
              "      <td>0</td>\n",
              "      <td>28.900</td>\n",
              "    </tr>\n",
              "  </tbody>\n",
              "</table>\n",
              "</div>"
            ],
            "text/plain": [
              "  Mean Temperature Minimum Temperature  ... Weekend Beer Consumption\n",
              "1             27,3                23,9  ...       0           25.461\n",
              "2            27,02                24,5  ...       0           28.972\n",
              "3            24,82                22,4  ...       1           30.814\n",
              "4            23,98                21,5  ...       1           29.799\n",
              "5            23,82                  21  ...       0           28.900\n",
              "\n",
              "[5 rows x 6 columns]"
            ]
          },
          "metadata": {
            "tags": []
          },
          "execution_count": 59
        }
      ]
    },
    {
      "cell_type": "markdown",
      "metadata": {
        "id": "OlsSL_551HX6"
      },
      "source": [
        "We can see that all the columns are numeric except the weekend column. After understand how is organized the data of our problem, the next step is delete the missing values and replace the \",\" by \".\" to avoid problems with numerical calculus."
      ]
    },
    {
      "cell_type": "code",
      "metadata": {
        "id": "GE_n_PLy14DK"
      },
      "source": [
        "#drop the empty rows\r\n",
        "dataset['Beer Consumption'].replace('', np.nan, inplace=True)\r\n",
        "dataset.dropna(subset=['Beer Consumption'], inplace=True)\r\n",
        "data = {'Mean Temperature': dataset['Mean Temperature'],\r\n",
        "        'Minimum Temperature': dataset['Minimum Temperature'],\r\n",
        "        'Maximum Temperature': dataset['Maximum Temperature'],\r\n",
        "        'Precipitation': dataset['Precipitation'],\r\n",
        "        'Weekend':dataset['Weekend'],\r\n",
        "        'Beer Consumption': dataset['Beer Consumption']}\r\n",
        "#convert data to dataframe\r\n",
        "dataset = pd.DataFrame(data)\r\n",
        "#replace , character by .\r\n",
        "dataset['Mean Temperature'] = dataset['Mean Temperature'].str.replace(',','.')\r\n",
        "dataset['Minimum Temperature'] = dataset['Minimum Temperature'].str.replace(',','.')\r\n",
        "dataset['Maximum Temperature'] = dataset['Maximum Temperature'].str.replace(',','.')\r\n",
        "dataset['Precipitation'] = dataset['Precipitation'].str.replace(',','.')\r\n",
        "dataset['Beer Consumption'] = dataset['Beer Consumption'].str.replace(',','.')\r\n",
        "#set the data types of the columns\r\n",
        "dataset['Mean Temperature'] = dataset['Mean Temperature'].astype('float')\r\n",
        "dataset['Minimum Temperature'] = dataset['Minimum Temperature'].astype('float')\r\n",
        "dataset['Maximum Temperature'] = dataset['Maximum Temperature'].astype('float')\r\n",
        "dataset['Precipitation'] = dataset['Precipitation'].astype('float')\r\n",
        "dataset['Weekend'] = dataset['Weekend'].astype('float')\r\n",
        "dataset['Beer Consumption'] = dataset['Beer Consumption'].astype('float')"
      ],
      "execution_count": 60,
      "outputs": []
    },
    {
      "cell_type": "code",
      "metadata": {
        "colab": {
          "base_uri": "https://localhost:8080/",
          "height": 297
        },
        "id": "q40Y588D2p5h",
        "outputId": "fc3af074-f0b0-4472-e963-0ebf03e12a6e"
      },
      "source": [
        "dataset.describe()"
      ],
      "execution_count": 61,
      "outputs": [
        {
          "output_type": "execute_result",
          "data": {
            "text/html": [
              "<div>\n",
              "<style scoped>\n",
              "    .dataframe tbody tr th:only-of-type {\n",
              "        vertical-align: middle;\n",
              "    }\n",
              "\n",
              "    .dataframe tbody tr th {\n",
              "        vertical-align: top;\n",
              "    }\n",
              "\n",
              "    .dataframe thead th {\n",
              "        text-align: right;\n",
              "    }\n",
              "</style>\n",
              "<table border=\"1\" class=\"dataframe\">\n",
              "  <thead>\n",
              "    <tr style=\"text-align: right;\">\n",
              "      <th></th>\n",
              "      <th>Mean Temperature</th>\n",
              "      <th>Minimum Temperature</th>\n",
              "      <th>Maximum Temperature</th>\n",
              "      <th>Precipitation</th>\n",
              "      <th>Weekend</th>\n",
              "      <th>Beer Consumption</th>\n",
              "    </tr>\n",
              "  </thead>\n",
              "  <tbody>\n",
              "    <tr>\n",
              "      <th>count</th>\n",
              "      <td>365.000000</td>\n",
              "      <td>365.000000</td>\n",
              "      <td>365.000000</td>\n",
              "      <td>365.000000</td>\n",
              "      <td>365.000000</td>\n",
              "      <td>365.000000</td>\n",
              "    </tr>\n",
              "    <tr>\n",
              "      <th>mean</th>\n",
              "      <td>21.226356</td>\n",
              "      <td>17.461370</td>\n",
              "      <td>26.611507</td>\n",
              "      <td>5.196712</td>\n",
              "      <td>0.284932</td>\n",
              "      <td>25.401367</td>\n",
              "    </tr>\n",
              "    <tr>\n",
              "      <th>std</th>\n",
              "      <td>3.180108</td>\n",
              "      <td>2.826185</td>\n",
              "      <td>4.317366</td>\n",
              "      <td>12.417844</td>\n",
              "      <td>0.452001</td>\n",
              "      <td>4.399143</td>\n",
              "    </tr>\n",
              "    <tr>\n",
              "      <th>min</th>\n",
              "      <td>12.900000</td>\n",
              "      <td>10.600000</td>\n",
              "      <td>14.500000</td>\n",
              "      <td>0.000000</td>\n",
              "      <td>0.000000</td>\n",
              "      <td>14.343000</td>\n",
              "    </tr>\n",
              "    <tr>\n",
              "      <th>25%</th>\n",
              "      <td>19.020000</td>\n",
              "      <td>15.300000</td>\n",
              "      <td>23.800000</td>\n",
              "      <td>0.000000</td>\n",
              "      <td>0.000000</td>\n",
              "      <td>22.008000</td>\n",
              "    </tr>\n",
              "    <tr>\n",
              "      <th>50%</th>\n",
              "      <td>21.380000</td>\n",
              "      <td>17.900000</td>\n",
              "      <td>26.900000</td>\n",
              "      <td>0.000000</td>\n",
              "      <td>0.000000</td>\n",
              "      <td>24.867000</td>\n",
              "    </tr>\n",
              "    <tr>\n",
              "      <th>75%</th>\n",
              "      <td>23.280000</td>\n",
              "      <td>19.600000</td>\n",
              "      <td>29.400000</td>\n",
              "      <td>3.200000</td>\n",
              "      <td>1.000000</td>\n",
              "      <td>28.631000</td>\n",
              "    </tr>\n",
              "    <tr>\n",
              "      <th>max</th>\n",
              "      <td>28.860000</td>\n",
              "      <td>24.500000</td>\n",
              "      <td>36.500000</td>\n",
              "      <td>94.800000</td>\n",
              "      <td>1.000000</td>\n",
              "      <td>37.937000</td>\n",
              "    </tr>\n",
              "  </tbody>\n",
              "</table>\n",
              "</div>"
            ],
            "text/plain": [
              "       Mean Temperature  Minimum Temperature  ...     Weekend  Beer Consumption\n",
              "count        365.000000           365.000000  ...  365.000000        365.000000\n",
              "mean          21.226356            17.461370  ...    0.284932         25.401367\n",
              "std            3.180108             2.826185  ...    0.452001          4.399143\n",
              "min           12.900000            10.600000  ...    0.000000         14.343000\n",
              "25%           19.020000            15.300000  ...    0.000000         22.008000\n",
              "50%           21.380000            17.900000  ...    0.000000         24.867000\n",
              "75%           23.280000            19.600000  ...    1.000000         28.631000\n",
              "max           28.860000            24.500000  ...    1.000000         37.937000\n",
              "\n",
              "[8 rows x 6 columns]"
            ]
          },
          "metadata": {
            "tags": []
          },
          "execution_count": 61
        }
      ]
    },
    {
      "cell_type": "markdown",
      "metadata": {
        "id": "xQyEaquW3jip"
      },
      "source": [
        "Let's make some charts to understand better the distribution of the dataset"
      ]
    },
    {
      "cell_type": "code",
      "metadata": {
        "colab": {
          "base_uri": "https://localhost:8080/",
          "height": 282
        },
        "id": "3KzwCioq3q8S",
        "outputId": "cf1dd2ff-61df-46a0-a6e4-3abc90b6040e"
      },
      "source": [
        "dataset['Beer Consumption'].hist(bins=20)"
      ],
      "execution_count": 62,
      "outputs": [
        {
          "output_type": "execute_result",
          "data": {
            "text/plain": [
              "<matplotlib.axes._subplots.AxesSubplot at 0x7f14c9225cf8>"
            ]
          },
          "metadata": {
            "tags": []
          },
          "execution_count": 62
        },
        {
          "output_type": "display_data",
          "data": {
            "image/png": "[encoded data removed]",
            "text/plain": [
              "<Figure size 432x288 with 1 Axes>"
            ]
          },
          "metadata": {
            "tags": [],
            "needs_background": "light"
          }
        }
      ]
    },
    {
      "cell_type": "code",
      "metadata": {
        "colab": {
          "base_uri": "https://localhost:8080/",
          "height": 282
        },
        "id": "XBowPW4b3xPN",
        "outputId": "3798a807-d833-4291-f6b3-adda0e9f2f5a"
      },
      "source": [
        "dataset['Mean Temperature'].hist(bins=20)"
      ],
      "execution_count": 63,
      "outputs": [
        {
          "output_type": "execute_result",
          "data": {
            "text/plain": [
              "<matplotlib.axes._subplots.AxesSubplot at 0x7f14c91a70f0>"
            ]
          },
          "metadata": {
            "tags": []
          },
          "execution_count": 63
        },
        {
          "output_type": "display_data",
          "data": {
            "image/png": "[encoded data removed]",
            "text/plain": [
              "<Figure size 432x288 with 1 Axes>"
            ]
          },
          "metadata": {
            "tags": [],
            "needs_background": "light"
          }
        }
      ]
    },
    {
      "cell_type": "code",
      "metadata": {
        "colab": {
          "base_uri": "https://localhost:8080/",
          "height": 285
        },
        "id": "RoIeTZxb32JS",
        "outputId": "acad07d0-0191-46bd-80dd-eb18e1537048"
      },
      "source": [
        "dataset['Minimum Temperature'].hist(bins=20)"
      ],
      "execution_count": 64,
      "outputs": [
        {
          "output_type": "execute_result",
          "data": {
            "text/plain": [
              "<matplotlib.axes._subplots.AxesSubplot at 0x7f14959335f8>"
            ]
          },
          "metadata": {
            "tags": []
          },
          "execution_count": 64
        },
        {
          "output_type": "display_data",
          "data": {
            "image/png": "[encoded data removed]",
            "text/plain": [
              "<Figure size 432x288 with 1 Axes>"
            ]
          },
          "metadata": {
            "tags": [],
            "needs_background": "light"
          }
        }
      ]
    },
    {
      "cell_type": "code",
      "metadata": {
        "colab": {
          "base_uri": "https://localhost:8080/",
          "height": 285
        },
        "id": "kg2Rf2aL3-hW",
        "outputId": "06b70954-0864-4cd1-d38b-128adaf6c47b"
      },
      "source": [
        "dataset['Maximum Temperature'].hist(bins=20)"
      ],
      "execution_count": 65,
      "outputs": [
        {
          "output_type": "execute_result",
          "data": {
            "text/plain": [
              "<matplotlib.axes._subplots.AxesSubplot at 0x7f14958dff60>"
            ]
          },
          "metadata": {
            "tags": []
          },
          "execution_count": 65
        },
        {
          "output_type": "display_data",
          "data": {
            "image/png": "[encoded data removed]",
            "text/plain": [
              "<Figure size 432x288 with 1 Axes>"
            ]
          },
          "metadata": {
            "tags": [],
            "needs_background": "light"
          }
        }
      ]
    },
    {
      "cell_type": "code",
      "metadata": {
        "colab": {
          "base_uri": "https://localhost:8080/",
          "height": 285
        },
        "id": "12NMKddq4F6h",
        "outputId": "8252b80a-b069-43ea-90a1-b86340ccb959"
      },
      "source": [
        "dataset['Precipitation'].hist(bins=20)"
      ],
      "execution_count": 66,
      "outputs": [
        {
          "output_type": "execute_result",
          "data": {
            "text/plain": [
              "<matplotlib.axes._subplots.AxesSubplot at 0x7f14d2c3aa20>"
            ]
          },
          "metadata": {
            "tags": []
          },
          "execution_count": 66
        },
        {
          "output_type": "display_data",
          "data": {
            "image/png": "[encoded data removed]",
            "text/plain": [
              "<Figure size 432x288 with 1 Axes>"
            ]
          },
          "metadata": {
            "tags": [],
            "needs_background": "light"
          }
        }
      ]
    },
    {
      "cell_type": "code",
      "metadata": {
        "colab": {
          "base_uri": "https://localhost:8080/",
          "height": 282
        },
        "id": "vHjOIKsc4MQk",
        "outputId": "fd13aa01-75c6-404d-a96b-95dab5a114a0"
      },
      "source": [
        "dataset['Weekend'].value_counts().plot(kind='barh')"
      ],
      "execution_count": 67,
      "outputs": [
        {
          "output_type": "execute_result",
          "data": {
            "text/plain": [
              "<matplotlib.axes._subplots.AxesSubplot at 0x7f1495766a90>"
            ]
          },
          "metadata": {
            "tags": []
          },
          "execution_count": 67
        },
        {
          "output_type": "display_data",
          "data": {
            "image/png": "[encoded data removed]",
            "text/plain": [
              "<Figure size 432x288 with 1 Axes>"
            ]
          },
          "metadata": {
            "tags": [],
            "needs_background": "light"
          }
        }
      ]
    },
    {
      "cell_type": "markdown",
      "metadata": {
        "id": "99ttPCZj4eAs"
      },
      "source": [
        "we can observe that beer consumption is less in the weekend than in the rest of days of the week and almost all the beer consumption occurs when the temperature is between 20 and 30 celsius.\r\n",
        "\r\n",
        "Let's split the data."
      ]
    },
    {
      "cell_type": "code",
      "metadata": {
        "colab": {
          "base_uri": "https://localhost:8080/",
          "height": 204
        },
        "id": "8KYdymsh-GEX",
        "outputId": "36feb514-fe43-45d9-de77-748520619735"
      },
      "source": [
        "data = pd.get_dummies(dataset, [])\r\n",
        "#target values\r\n",
        "y = data['Beer Consumption'].values\r\n",
        "#all the data without the target column\r\n",
        "x = data.drop(\"Beer Consumption\", axis = 1)\r\n",
        "#split the sets\r\n",
        "X_train, X_test, y_train, y_test = train_test_split(x, y, test_size=0.3, random_state=42)\r\n",
        "train_stats = X_train.describe()\r\n",
        "train_stats = train_stats.transpose()\r\n",
        "train_stats"
      ],
      "execution_count": 107,
      "outputs": [
        {
          "output_type": "execute_result",
          "data": {
            "text/html": [
              "<div>\n",
              "<style scoped>\n",
              "    .dataframe tbody tr th:only-of-type {\n",
              "        vertical-align: middle;\n",
              "    }\n",
              "\n",
              "    .dataframe tbody tr th {\n",
              "        vertical-align: top;\n",
              "    }\n",
              "\n",
              "    .dataframe thead th {\n",
              "        text-align: right;\n",
              "    }\n",
              "</style>\n",
              "<table border=\"1\" class=\"dataframe\">\n",
              "  <thead>\n",
              "    <tr style=\"text-align: right;\">\n",
              "      <th></th>\n",
              "      <th>count</th>\n",
              "      <th>mean</th>\n",
              "      <th>std</th>\n",
              "      <th>min</th>\n",
              "      <th>25%</th>\n",
              "      <th>50%</th>\n",
              "      <th>75%</th>\n",
              "      <th>max</th>\n",
              "    </tr>\n",
              "  </thead>\n",
              "  <tbody>\n",
              "    <tr>\n",
              "      <th>Mean Temperature</th>\n",
              "      <td>255.0</td>\n",
              "      <td>21.041725</td>\n",
              "      <td>3.191729</td>\n",
              "      <td>12.9</td>\n",
              "      <td>18.65</td>\n",
              "      <td>21.22</td>\n",
              "      <td>23.15</td>\n",
              "      <td>28.3</td>\n",
              "    </tr>\n",
              "    <tr>\n",
              "      <th>Minimum Temperature</th>\n",
              "      <td>255.0</td>\n",
              "      <td>17.269804</td>\n",
              "      <td>2.892345</td>\n",
              "      <td>10.6</td>\n",
              "      <td>15.00</td>\n",
              "      <td>17.50</td>\n",
              "      <td>19.50</td>\n",
              "      <td>24.5</td>\n",
              "    </tr>\n",
              "    <tr>\n",
              "      <th>Maximum Temperature</th>\n",
              "      <td>255.0</td>\n",
              "      <td>26.413333</td>\n",
              "      <td>4.316574</td>\n",
              "      <td>14.5</td>\n",
              "      <td>23.40</td>\n",
              "      <td>26.60</td>\n",
              "      <td>29.20</td>\n",
              "      <td>36.5</td>\n",
              "    </tr>\n",
              "    <tr>\n",
              "      <th>Precipitation</th>\n",
              "      <td>255.0</td>\n",
              "      <td>4.855686</td>\n",
              "      <td>11.558201</td>\n",
              "      <td>0.0</td>\n",
              "      <td>0.00</td>\n",
              "      <td>0.00</td>\n",
              "      <td>3.10</td>\n",
              "      <td>85.3</td>\n",
              "    </tr>\n",
              "    <tr>\n",
              "      <th>Weekend</th>\n",
              "      <td>255.0</td>\n",
              "      <td>0.258824</td>\n",
              "      <td>0.438850</td>\n",
              "      <td>0.0</td>\n",
              "      <td>0.00</td>\n",
              "      <td>0.00</td>\n",
              "      <td>1.00</td>\n",
              "      <td>1.0</td>\n",
              "    </tr>\n",
              "  </tbody>\n",
              "</table>\n",
              "</div>"
            ],
            "text/plain": [
              "                     count       mean        std  ...    50%    75%   max\n",
              "Mean Temperature     255.0  21.041725   3.191729  ...  21.22  23.15  28.3\n",
              "Minimum Temperature  255.0  17.269804   2.892345  ...  17.50  19.50  24.5\n",
              "Maximum Temperature  255.0  26.413333   4.316574  ...  26.60  29.20  36.5\n",
              "Precipitation        255.0   4.855686  11.558201  ...   0.00   3.10  85.3\n",
              "Weekend              255.0   0.258824   0.438850  ...   0.00   1.00   1.0\n",
              "\n",
              "[5 rows x 8 columns]"
            ]
          },
          "metadata": {
            "tags": []
          },
          "execution_count": 107
        }
      ]
    },
    {
      "cell_type": "markdown",
      "metadata": {
        "id": "_NmO5P7qBOkZ"
      },
      "source": [
        "create the model"
      ]
    },
    {
      "cell_type": "code",
      "metadata": {
        "colab": {
          "base_uri": "https://localhost:8080/"
        },
        "id": "bpluo4VYBRlB",
        "outputId": "c3bbe452-c98a-497e-d33e-c9a4340264b9"
      },
      "source": [
        "#function to normalize the data\r\n",
        "def norm(x):\r\n",
        "  return (x - train_stats['mean']) / train_stats['std']\r\n",
        "\r\n",
        "#normalize the train dataset\r\n",
        "normed_train_data = norm(X_train)\r\n",
        "normed_test_data = norm(X_test)\r\n",
        "\r\n",
        "#function to build the model\r\n",
        "def build_model():\r\n",
        "  model = keras.Sequential([\r\n",
        "    layers.Dense(5, activation='linear', input_shape=[len(X_train.keys())]),\r\n",
        "    layers.Dense(1)\r\n",
        "  ])\r\n",
        "\r\n",
        "  optimizer = tf.keras.optimizers.RMSprop(0.001)\r\n",
        "\r\n",
        "  model.compile(loss='mse',\r\n",
        "                optimizer=optimizer,\r\n",
        "                metrics=['mae', 'mse'])\r\n",
        "  return model\r\n",
        "\r\n",
        "model = build_model()\r\n",
        "model.summary()"
      ],
      "execution_count": 211,
      "outputs": [
        {
          "output_type": "stream",
          "text": [
            "Model: \"sequential_41\"\n",
            "_________________________________________________________________\n",
            "Layer (type)                 Output Shape              Param #   \n",
            "=================================================================\n",
            "dense_114 (Dense)            (None, 5)                 30        \n",
            "_________________________________________________________________\n",
            "dense_115 (Dense)            (None, 1)                 6         \n",
            "=================================================================\n",
            "Total params: 36\n",
            "Trainable params: 36\n",
            "Non-trainable params: 0\n",
            "_________________________________________________________________\n"
          ],
          "name": "stdout"
        }
      ]
    },
    {
      "cell_type": "markdown",
      "metadata": {
        "id": "Ncmtm2lZCIhW"
      },
      "source": [
        "There are five slopes because each correspond to a feature of our dataset. Let's predict the outputs for the dataset."
      ]
    },
    {
      "cell_type": "code",
      "metadata": {
        "colab": {
          "base_uri": "https://localhost:8080/",
          "height": 204
        },
        "id": "EFQXraHaIqVD",
        "outputId": "1a97b7e1-c1fc-47f3-bb98-01866d7cb44b"
      },
      "source": [
        "#train the model for 1000 epochs\r\n",
        "early_stop = keras.callbacks.EarlyStopping(monitor='val_loss', patience=5)\r\n",
        "history = model.fit(\r\n",
        "  normed_train_data, y_train,\r\n",
        "  epochs=1000, validation_split = 0.2, verbose=0, callbacks=[early_stop])\r\n",
        "\r\n",
        "hist = pd.DataFrame(history.history)\r\n",
        "hist['epoch'] = history.epoch\r\n",
        "hist.tail()"
      ],
      "execution_count": 212,
      "outputs": [
        {
          "output_type": "execute_result",
          "data": {
            "text/html": [
              "<div>\n",
              "<style scoped>\n",
              "    .dataframe tbody tr th:only-of-type {\n",
              "        vertical-align: middle;\n",
              "    }\n",
              "\n",
              "    .dataframe tbody tr th {\n",
              "        vertical-align: top;\n",
              "    }\n",
              "\n",
              "    .dataframe thead th {\n",
              "        text-align: right;\n",
              "    }\n",
              "</style>\n",
              "<table border=\"1\" class=\"dataframe\">\n",
              "  <thead>\n",
              "    <tr style=\"text-align: right;\">\n",
              "      <th></th>\n",
              "      <th>loss</th>\n",
              "      <th>mae</th>\n",
              "      <th>mse</th>\n",
              "      <th>val_loss</th>\n",
              "      <th>val_mae</th>\n",
              "      <th>val_mse</th>\n",
              "      <th>epoch</th>\n",
              "    </tr>\n",
              "  </thead>\n",
              "  <tbody>\n",
              "    <tr>\n",
              "      <th>303</th>\n",
              "      <td>5.353957</td>\n",
              "      <td>1.957229</td>\n",
              "      <td>5.353957</td>\n",
              "      <td>5.241739</td>\n",
              "      <td>1.973624</td>\n",
              "      <td>5.241739</td>\n",
              "      <td>303</td>\n",
              "    </tr>\n",
              "    <tr>\n",
              "      <th>304</th>\n",
              "      <td>5.362062</td>\n",
              "      <td>1.959453</td>\n",
              "      <td>5.362062</td>\n",
              "      <td>5.239208</td>\n",
              "      <td>1.974413</td>\n",
              "      <td>5.239208</td>\n",
              "      <td>304</td>\n",
              "    </tr>\n",
              "    <tr>\n",
              "      <th>305</th>\n",
              "      <td>5.355670</td>\n",
              "      <td>1.954039</td>\n",
              "      <td>5.355670</td>\n",
              "      <td>5.230276</td>\n",
              "      <td>1.973871</td>\n",
              "      <td>5.230276</td>\n",
              "      <td>305</td>\n",
              "    </tr>\n",
              "    <tr>\n",
              "      <th>306</th>\n",
              "      <td>5.365636</td>\n",
              "      <td>1.953550</td>\n",
              "      <td>5.365636</td>\n",
              "      <td>5.244124</td>\n",
              "      <td>1.975451</td>\n",
              "      <td>5.244124</td>\n",
              "      <td>306</td>\n",
              "    </tr>\n",
              "    <tr>\n",
              "      <th>307</th>\n",
              "      <td>5.348027</td>\n",
              "      <td>1.953752</td>\n",
              "      <td>5.348027</td>\n",
              "      <td>5.252606</td>\n",
              "      <td>1.978786</td>\n",
              "      <td>5.252606</td>\n",
              "      <td>307</td>\n",
              "    </tr>\n",
              "  </tbody>\n",
              "</table>\n",
              "</div>"
            ],
            "text/plain": [
              "         loss       mae       mse  val_loss   val_mae   val_mse  epoch\n",
              "303  5.353957  1.957229  5.353957  5.241739  1.973624  5.241739    303\n",
              "304  5.362062  1.959453  5.362062  5.239208  1.974413  5.239208    304\n",
              "305  5.355670  1.954039  5.355670  5.230276  1.973871  5.230276    305\n",
              "306  5.365636  1.953550  5.365636  5.244124  1.975451  5.244124    306\n",
              "307  5.348027  1.953752  5.348027  5.252606  1.978786  5.252606    307"
            ]
          },
          "metadata": {
            "tags": []
          },
          "execution_count": 212
        }
      ]
    },
    {
      "cell_type": "code",
      "metadata": {
        "colab": {
          "base_uri": "https://localhost:8080/",
          "height": 279
        },
        "id": "mtt5AhaKNJWY",
        "outputId": "ba334c28-377d-4ff5-f4db-7273372a6aa1"
      },
      "source": [
        "#let's predict the test_set\r\n",
        "test_predictions = model.predict(normed_test_data).flatten()\r\n",
        "\r\n",
        "plt.scatter(y_test, test_predictions)\r\n",
        "plt.xlabel('True Values')\r\n",
        "plt.ylabel('Predictions')\r\n",
        "plt.xlim([0,plt.xlim()[1]])\r\n",
        "plt.ylim([0,plt.ylim()[1]])\r\n",
        "_ = plt.plot([-200, 200], [-200, 200])"
      ],
      "execution_count": 213,
      "outputs": [
        {
          "output_type": "display_data",
          "data": {
            "image/png": "[encoded data removed]",
            "text/plain": [
              "<Figure size 432x288 with 1 Axes>"
            ]
          },
          "metadata": {
            "tags": [],
            "needs_background": "light"
          }
        }
      ]
    },
    {
      "cell_type": "code",
      "metadata": {
        "colab": {
          "base_uri": "https://localhost:8080/",
          "height": 279
        },
        "id": "-3wiN97MOavP",
        "outputId": "353dac04-60e5-4c39-ac73-9229247ab944"
      },
      "source": [
        "error = test_predictions - y_test\r\n",
        "plt.hist(error, bins = 25)\r\n",
        "plt.xlabel(\"Prediction Error [MPG]\")\r\n",
        "_ = plt.ylabel(\"Count\")"
      ],
      "execution_count": 214,
      "outputs": [
        {
          "output_type": "display_data",
          "data": {
            "image/png": "[encoded data removed]",
            "text/plain": [
              "<Figure size 432x288 with 1 Axes>"
            ]
          },
          "metadata": {
            "tags": [],
            "needs_background": "light"
          }
        }
      ]
    }
  ]
}